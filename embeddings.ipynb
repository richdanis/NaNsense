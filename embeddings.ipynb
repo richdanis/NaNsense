{
 "cells": [
  {
   "cell_type": "code",
   "execution_count": null,
   "id": "0eb0d3db",
   "metadata": {},
   "outputs": [
    {
     "ename": "ModuleNotFoundError",
     "evalue": "No module named 'chromadb'",
     "output_type": "error",
     "traceback": [
      "\u001b[1;31m---------------------------------------------------------------------------\u001b[0m",
      "\u001b[1;31mModuleNotFoundError\u001b[0m                       Traceback (most recent call last)",
      "Cell \u001b[1;32mIn[44], line 6\u001b[0m\n\u001b[0;32m      4\u001b[0m \u001b[38;5;28;01mimport\u001b[39;00m \u001b[38;5;21;01mtorch\u001b[39;00m \n\u001b[0;32m      5\u001b[0m \u001b[38;5;28;01mimport\u001b[39;00m \u001b[38;5;21;01mjson\u001b[39;00m\n\u001b[1;32m----> 6\u001b[0m \u001b[38;5;28;01mimport\u001b[39;00m \u001b[38;5;21;01mchromadb\u001b[39;00m\n\u001b[0;32m      7\u001b[0m \u001b[38;5;28;01mimport\u001b[39;00m \u001b[38;5;21;01mopenai\u001b[39;00m\n\u001b[0;32m      8\u001b[0m \u001b[38;5;28;01mfrom\u001b[39;00m \u001b[38;5;21;01mlangchain\u001b[39;00m\u001b[38;5;21;01m.\u001b[39;00m\u001b[38;5;21;01mschema\u001b[39;00m \u001b[38;5;28;01mimport\u001b[39;00m Document\n",
      "\u001b[1;31mModuleNotFoundError\u001b[0m: No module named 'chromadb'"
     ]
    }
   ],
   "source": [
    "import langchain \n",
    "import langchain_openai \n",
    "import os\n",
    "import torch \n",
    "import json\n",
    "import chromadb\n",
    "import openai\n"
   ]
  },
  {
   "cell_type": "code",
   "execution_count": 45,
   "id": "021f1142",
   "metadata": {},
   "outputs": [],
   "source": [
    "from langchain.schema import Document"
   ]
  },
  {
   "cell_type": "code",
   "execution_count": 27,
   "id": "5072cf1e",
   "metadata": {},
   "outputs": [],
   "source": [
    "def load_documents(json_file):\n",
    "    \"\"\"Loads the JSON file.\"\"\"\n",
    "    with open(json_file, 'r', encoding='utf-8') as f:\n",
    "      try:\n",
    "          data = json.load(f)\n",
    "          return data\n",
    "      except json.JSONDecodeError:\n",
    "          print(f\"Error reading {json_file}, it may not be a valid JSON file.\")\n",
    "    return []"
   ]
  },
  {
   "cell_type": "markdown",
   "id": "8ebd7e67",
   "metadata": {},
   "source": [
    "#### Path Loading"
   ]
  },
  {
   "cell_type": "code",
   "execution_count": 47,
   "id": "9ef4c08e",
   "metadata": {},
   "outputs": [],
   "source": [
    "# cwd should be NaNsense\n",
    "cwd= os.getcwd()\n",
    "cwd = cwd + \"/data_cleaned/data_clean/\"\n",
    "files_in_folder = os.listdir(cwd)\n"
   ]
  },
  {
   "cell_type": "code",
   "execution_count": null,
   "id": "0d3ab484",
   "metadata": {},
   "outputs": [
    {
     "name": "stdout",
     "output_type": "stream",
     "text": [
      "dict_keys(['url', 'timestamp', 'text_by_page_url', 'doc_id'])\n",
      "http://abtasty.com\n",
      "dict_keys(['https://www.abtasty.com/customers/', 'https://www.abtasty.com/partners-directory/', 'http://abtasty.com/resources', 'https://www.abtasty.com/topics/cro-culture/', 'https://www.abtasty.com/industry/financial-services/', 'https://www.abtasty.com/industry/media/', 'http://abtasty.com/blog', 'https://www.abtasty.com/resource-categories/case-studies/', 'https://www.abtasty.com/about-us/', 'https://www.abtasty.com/our-latest-news/', 'https://www.abtasty.com/contact/', 'https://www.abtasty.com/resources/how-eurosports-nps-pop-in-got-5k-responses-in-less-than-two-weeks/', 'https://www.abtasty.com/resources/clarins-success-story/', 'https://www.abtasty.com/resources/sage-ab-testing/', 'http://abtasty.com/resources/', 'http://abtasty.com/blog/ab-tasty-google-cloud/', 'http://abtasty.com/resources/clarins-uk-invests-continuous-testing-learning/', 'http://abtasty.com/blog/ideal-cro-team-structure/', 'http://abtasty.com/blog/digital-customer-journey-optimization/', 'http://abtasty.com/blog/generative-ai-ideas-ab-testing/'])\n",
      "20\n"
     ]
    },
    {
     "data": {
      "text/plain": [
       "'Customers - abtasty\\nSkip to the content\\nSearch\\nMenu\\nSearch\\nSearch a resource\\nClose search\\nabtasty\\nMenu\\nPlatform\\nProducts\\nWeb Experimentation\\nFeature Experimentation\\nContent Personalization\\nRollouts\\nSearch\\nRecommendations\\nMerchandising\\nGo further with\\nEmotionsAI\\nGuided Selling\\nEmail Recommendations\\nBuilt for scale\\nAI\\nSecurity and Privacy\\nTech and Performance\\nDocumentation\\nWeb Experimentation\\nSearch & Reco\\nFeature Exp. & Rollouts\\nFeature Developer Doc\\nGrow with us\\nSuccess with AB Tasty\\nCustomers\\nExtensive Partner Network\\nFind a partner\\nPartners directory\\nIntegrations\\nGoogle Cloud\\nGlobal Support\\nCustomer Success Team\\nPricing\\nResources\\nTopics\\n#A/B Testing\\n#Customer Journey\\n#Customer Psychology\\n#CRO Culture\\n#Data & Analytics\\n#Feature Experimentation\\n#Personalization\\n#Statistical Methodology\\nSee more\\nIndustry\\nBeauty\\nE-commerce\\nFashion & Apparel\\nFinancial services\\nHome & Furniture\\nMedia\\nTravel & Hospitatlity\\nSee more\\nContent Type\\nArticles\\nCase Studies\\nE-Books\\nGlossary\\nGuides\\nPodcast\\nWebinars\\nSee all resources\\nTools\\nMinimum Detectable Effect Calculator\\nSample Size Calculator\\nCompany\\nAB Tasty\\nAbout Us\\nSustainability & Inclusivity\\nOur latest News\\nJoin Us\\nYour Journey at AB Tasty\\nCareers\\nWhy work with AB Tasty ?\\nContact\\nSend us a message\\nBecome a partner\\nGet a demo\\nLogin\\nWeb Experimentation\\nFeature Exp. & Rollouts\\nSearch & Reco.\\nEmotionsAI\\nEN\\nEN\\nDE\\nFR\\nClose Menu\\nPlatform\\nProducts\\nWeb Experimentation\\nFeature Experimentation\\nContent Personalization\\nRollouts\\nSearch\\nRecommendations\\nMerchandising\\nGo further with\\nEmotionsAI\\nGuided Selling\\nEmail Recommendations\\nBuilt for scale\\nAI\\nSecurity and Privacy\\nTech and Performance\\nDocumentation\\nWeb Experimentation\\nSearch & Reco\\nFeature Exp. & Rollouts\\nFeature Developer Doc\\nGrow with us\\nSuccess with AB Tasty\\nCustomers\\nExtensive Partner Network\\nFind a partner\\nPartners directory\\nIntegrations\\nGoogle Cloud\\nGlobal Support\\nCustomer Success Team\\nPricing\\nResources\\nTopics\\n#A/B Testing\\n#Customer Journey\\n#Customer Psychology\\n#CRO Culture\\n#Data & Analytics\\n#Feature Experimentation\\n#Personalization\\n#Statistical Methodology\\nSee more\\nIndustry\\nBeauty\\nE-commerce\\nFashion & Apparel\\nFinancial services\\nHome & Furniture\\nMedia\\nTravel & Hospitatlity\\nSee more\\nContent Type\\nArticles\\nCase Studies\\nE-Books\\nGlossary\\nGuides\\nPodcast\\nWebinars\\nSee all resources\\nTools\\nMinimum Detectable Effect Calculator\\nSample Size Calculator\\nCompany\\nAB Tasty\\nAbout Us\\nSustainability & Inclusivity\\nOur latest News\\nJoin Us\\nYour Journey at AB Tasty\\nCareers\\nWhy work with AB Tasty ?\\nContact\\nSend us a message\\nBecome a partner\\nGet a demo\\nLogin\\nWeb Experimentation\\nFeature Exp. & Rollouts\\nSearch & Reco.\\nEmotionsAI\\nEN\\nEN\\nDE\\nFR\\nPlatform\\nProducts\\nWeb Experimentation\\nFeature Experimentation\\nContent Personalization\\nRollouts\\nSearch\\nRecommendations\\nMerchandising\\nGo further with\\nEmotionsAI\\nGuided Selling\\nEmail Recommendations\\nBuilt for scale\\nAI\\nSecurity and Privacy\\nTech and Performance\\nDocumentation\\nWeb Experimentation\\nSearch & Reco\\nFeature Exp & rollouts\\nFeature Dev Doc\\nGrow with us\\nSuccess with AB Tasty\\nCustomers\\nExtensive Partner Network\\nFind a partner\\nPartners directory\\nIntegrations\\nGoogle Cloud\\nGlobal Support\\nCustomer Success Team\\nPricing\\nResources\\nTopics\\n#A/B Testing\\n#CRO Culture\\n#Customer Journey\\n#Customer Psychology\\n#Data & Analytics\\n#Feature Experimentation\\n#Personalization\\n#Statistical Methodology\\nSee more\\nIndustry\\nBeauty\\nE-commerce\\nFashion & Apparel\\nFinancial services\\nHome & Furniture\\nMedia\\nTravel & Hospitality\\nSee more\\nContent type\\nArticles\\nCase Studies\\nE-Books\\nGlossary\\nGuides\\nPodcasts\\nWebinars\\nSee all resources\\nTools\\nMinimum Detectable Effect Calculator\\nSample Size Calculator\\nCompany\\nAB Tasty\\nAbout Us\\nCorporate Social Responsibility\\nOur latest News\\nJoin Us\\nYour Journey at AB Tasty\\nCareers\\nWhy work with AB Tasty ?\\nContact\\nSend us a message\\nBecome a partner\\nEN\\nDE\\nFR\\nLogin\\nWeb Experimentation\\nFeature Exp. & Rollouts\\nSearch & Reco.\\nEmotionsAI\\nGet a demo\\nCustomers\\nHome\\nCustomers\\nEmpowering 1000+ brands to elevate the\\ncustomer experience\\nBuilding better experiences\\nfor your clients pay off\\nBounce rate\\n-38%\\nConversation rate\\n+10%\\nTotal revenue\\n+109%\\nOn The Beach Tests the Water with Personalization\\n+200 more bookings online\\n30 experiments per month\\nLearn more\\nCase studies\\nCase study\\nLa Redoute triples A/B test success rate with EmotionsAI\\n+10%\\nincrease in quote submissions\\nCase study\\nHow Clarins Scaled Their Global E-Commerce Through Agile Experimentation\\n30\\nMarkets worldwide.\\nCase study\\nHow Lush’s Focus on Human Connection Optimized the Digital Customer Experience\\n+250%\\nClick-through rate.\\nCase study\\nHow Fenty Increased CTA Clicks by 42%\\n+42%\\nCTA clicks.\\nCase study\\nHow Eurosport’s Survey Pop-In Got 5K Responses in Less Than Two Weeks\\n5000\\nResponses.\\nCase study\\nHow Best Western® Hotels & Resorts Increased Loyalty Program Engagement\\n+12%\\nCustomer account creation.\\nCase study\\nPan Pacific Hotels Group Uplifts Revenue with Audience Segmentation\\n+35%\\nVisitor-to-book rate.\\nWe’re customer-obsessed,\\nand it shows\\nAB Tasty is consistently ranked as a top-tier solution!\\nGrow faster\\nwith\\nAB Tasty\\nGet a custom walkthrough of the platform\\nGet a demo\\nCompany\\nAbout Us\\nSecurity practices\\nContact Us\\nWebinars\\nBecome a partner\\nCareers\\nSolutions\\nA/B Testing\\nFeature Flag Management\\nPersonalization\\nEmotionsAI\\nE-commerce Recommendations\\nEnterprise Search\\nAI Technology\\nThe Latest\\nPodcast: 1000 Experiments Club\\nGoogle Cloud Partner\\nNEW Hotjar Integration\\nClarins: Invests in Testing\\nIdeal CRO Team Structure\\nInfographic: Digital Customer Journey\\nHow AI Enhances Experimentation\\nExplore topics\\nCRO Culture\\nROI of Experimentation\\nAB Testing Experimentation\\nDigital Marketing\\nEmail Marketing\\nUX Optimization\\nExplore Industries\\nE-commerce\\nFashion & apparel\\nBeauty\\nHome & Furniture\\nTravel & Hospitatlity\\nMedia\\nFinancial Services\\n©\\r\\n\\t\\t\\t\\t\\t\\t\\tCopyright 2024 AB Tasty, Inc, All rights reserved |\\nLegal Notices\\n|\\nPrivacy Policy\\n|\\nPersonal data - Customers\\n|\\nCookie preferences'"
      ]
     },
     "execution_count": 52,
     "metadata": {},
     "output_type": "execute_result"
    }
   ],
   "source": [
    "documents= []\n",
    "for filename in files_in_folder:\n",
    "    if filename.endswith('.json'):\n",
    "        \n",
    "        file_path = cwd + filename\n",
    "        doc = load_documents(file_path)\n",
    "        \n",
    "        for url in doc['text_by_page_url'].keys():\n",
    "            \n",
    "            cleaned_text = doc['text_by_page_url'][url]\n",
    "            lan_doc = Document(page_content=cleaned_text)\n",
    "            documents.append(lan_doc)\n",
    "        break\n",
    "\n",
    "\n",
    "print(doc.keys())\n",
    "print(doc['url'])\n",
    "print(doc['text_by_page_url'].keys())\n",
    "d\n"
   ]
  },
  {
   "cell_type": "code",
   "execution_count": null,
   "id": "d5918c16",
   "metadata": {},
   "outputs": [
    {
     "data": {
      "text/plain": [
       "20"
      ]
     },
     "execution_count": 51,
     "metadata": {},
     "output_type": "execute_result"
    }
   ],
   "source": []
  },
  {
   "cell_type": "code",
   "execution_count": 53,
   "id": "62dcde01",
   "metadata": {},
   "outputs": [],
   "source": [
    "from langchain.text_splitter import RecursiveCharacterTextSplitter\n",
    "\n",
    "text_splitter = RecursiveCharacterTextSplitter(\n",
    "    chunk_size=500,  # tune depending on your model/token cost\n",
    "    chunk_overlap=100)\n",
    "\n",
    "chunks = text_splitter.split_documents(documents)"
   ]
  },
  {
   "cell_type": "code",
   "execution_count": null,
   "id": "f1804ba8",
   "metadata": {},
   "outputs": [
    {
     "data": {
      "text/plain": [
       "497"
      ]
     },
     "execution_count": 55,
     "metadata": {},
     "output_type": "execute_result"
    }
   ],
   "source": []
  },
  {
   "cell_type": "markdown",
   "id": "5ce4d135",
   "metadata": {},
   "source": [
    "#### Interesting to do for making faster and more efficient/accurate -> Metadata integration"
   ]
  },
  {
   "cell_type": "code",
   "execution_count": null,
   "id": "a08de1af",
   "metadata": {},
   "outputs": [],
   "source": [
    "with open(\"data.json\", \"r\") as f:\n",
    "    raw_data = json.load(f)\n",
    "\n",
    "documents = []\n",
    "\n",
    "for entry in raw_data:\n",
    "    html = entry.get(\"html\", \"\")\n",
    "    company_name = entry.get(\"company\", \"unknown\")\n",
    "\n",
    "    # Clean the HTML however you like, e.g., using BeautifulSoup\n",
    "    cleaned_text = extract_text_from_html(html)\n",
    "\n",
    "    # Wrap in LangChain Document\n",
    "    doc = Document(\n",
    "        page_content=cleaned_text,\n",
    "        metadata={\"company\": company_name}\n",
    "    )\n",
    "    documents.append(doc)"
   ]
  },
  {
   "cell_type": "markdown",
   "id": "44127c9c",
   "metadata": {},
   "source": [
    "Example: Filtering by Metadata\n",
    "Let’s say your user only wants results from Southern Italy:\n",
    "\n",
    "python\n",
    "Kopieren\n",
    "Bearbeiten\n",
    "retriever = vectorstore.as_retriever(\n",
    "    search_kwargs={\n",
    "        \"k\": 5,\n",
    "        \"filter\": {\"region\": \"Southern Italy\"}\n",
    "    }\n",
    ")\n",
    "LangChain + vectorstores like ChromaDB and Weaviate support this kind of filtering directly.\n",
    "\n"
   ]
  },
  {
   "cell_type": "code",
   "execution_count": null,
   "id": "d563e420",
   "metadata": {},
   "outputs": [],
   "source": []
  }
 ],
 "metadata": {
  "kernelspec": {
   "display_name": "Python 3",
   "language": "python",
   "name": "python3"
  },
  "language_info": {
   "codemirror_mode": {
    "name": "ipython",
    "version": 3
   },
   "file_extension": ".py",
   "mimetype": "text/x-python",
   "name": "python",
   "nbconvert_exporter": "python",
   "pygments_lexer": "ipython3",
   "version": "3.12.0"
  }
 },
 "nbformat": 4,
 "nbformat_minor": 5
}
