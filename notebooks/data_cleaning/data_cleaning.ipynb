{
 "cells": [
  {
   "cell_type": "code",
   "execution_count": null,
   "metadata": {},
   "outputs": [],
   "source": [
    "import os\n",
    "import json\n",
    "\n",
    "# === CONFIG ===\n",
    "INPUT_DIR = \"../../data\"\n",
    "OUTPUT_DIR = \"../../data_clean\"\n",
    "os.makedirs(OUTPUT_DIR, exist_ok=True)\n",
    "# ==============\n",
    "\n",
    "\n",
    "def is_relevant_url(url: str) -> bool:\n",
    "    \"\"\"\n",
    "    Returns True if the URL points to a page with meaningful text content,\n",
    "    and False if it's a resource file like CSS, JS, images, etc.\n",
    "    \"\"\"\n",
    "    url = url.lower()\n",
    "    # Exclude known file types that don't contain content\n",
    "    if any(url.endswith(ext) for ext in [\n",
    "        \".css\", \".js\", \".png\", \".jpg\", \".jpeg\", \".gif\", \".svg\", \".ico\", \".woff\", \".ttf\", \".eot\", \".otf\", \".map\", \".jsf\"\n",
    "    ]) or any(ext in url for ext in [\n",
    "        \".css\", \".js\", \".png\", \".jpg\", \".jpeg\", \".gif\", \".svg\", \".ico\", \".woff\", \".ttf\", \".eot\", \".otf\", \".map\", \".jsf\"\n",
    "    ]):\n",
    "        return False\n",
    "\n",
    "    # Exclude paths that clearly indicate layout/resource files (specific to CMS systems like DNN)\n",
    "    if any(part in url for part in [\n",
    "        \"/skins/\", \"/containers/\", \"/layouts/\", \"/resources/\", \"/resource/\", \"/images/\", \"/fonts/\", \"/vendor/\"\n",
    "    ]):\n",
    "        return False\n",
    "\n",
    "    # Otherwise, keep the URL\n",
    "    return True\n",
    "\n",
    "\n",
    "def filter_json_file(filepath, output_dir):\n",
    "    \"\"\" Filter the JSON file to keep only relevant URLs. text_by_page_url field of the json file is changed to \n",
    "    contain only relevant URLs, and not resources such as css, javascript, image files. \"\"\"\n",
    "    with open(filepath, 'r', encoding='utf-8') as f:\n",
    "        data = json.load(f)\n",
    "\n",
    "    original_pages = data.get(\"text_by_page_url\", {})\n",
    "    filtered_pages = {\n",
    "        url: text\n",
    "        for url, text in original_pages.items() if is_relevant_url(url)\n",
    "    }\n",
    "\n",
    "    data[\"text_by_page_url\"] = filtered_pages\n",
    "\n",
    "    filename = os.path.basename(filepath)\n",
    "    out_path = os.path.join(output_dir, filename)\n",
    "\n",
    "    with open(out_path, 'w', encoding='utf-8') as f:\n",
    "        json.dump(data, f, indent=2, ensure_ascii=False)\n",
    "\n",
    "    print(\n",
    "        f\"Filtered: {filename} (kept {len(filtered_pages)}/{len(original_pages)} pages)\"\n",
    "    )\n"
   ]
  },
  {
   "cell_type": "code",
   "execution_count": null,
   "metadata": {},
   "outputs": [],
   "source": [
    "for filename in os.listdir(INPUT_DIR)[:100]:\n",
    "    if filename.endswith(\".json\"):\n",
    "        filepath = os.path.join(INPUT_DIR, filename)\n",
    "        filter_json_file(filepath, OUTPUT_DIR)"
   ]
  }
 ],
 "metadata": {
  "kernelspec": {
   "display_name": "myenv",
   "language": "python",
   "name": "python3"
  },
  "language_info": {
   "codemirror_mode": {
    "name": "ipython",
    "version": 3
   },
   "file_extension": ".py",
   "mimetype": "text/x-python",
   "name": "python",
   "nbconvert_exporter": "python",
   "pygments_lexer": "ipython3",
   "version": "3.12.8"
  }
 },
 "nbformat": 4,
 "nbformat_minor": 2
}
