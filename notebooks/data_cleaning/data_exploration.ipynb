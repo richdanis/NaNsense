{
 "cells": [
  {
   "cell_type": "code",
   "execution_count": null,
   "metadata": {},
   "outputs": [],
   "source": [
    "from pathlib import Path\n",
    "import json\n",
    "from tqdm import tqdm\n",
    "from collections import Counter, defaultdict\n",
    "\n",
    "json_dir = Path(\"../data\")\n",
    "\n",
    "# Summary containers\n",
    "field_counts = Counter()\n",
    "text_lengths = []\n",
    "titles = Counter()\n",
    "errors = 0\n",
    "file_count = 0"
   ]
  },
  {
   "cell_type": "code",
   "execution_count": null,
   "metadata": {},
   "outputs": [],
   "source": [
    "# Analyze JSON files and their headers\n",
    "json_dir = Path(\"../data\")\n",
    "field_counter = Counter()\n",
    "errors = 0\n",
    "\n",
    "for file_path in tqdm(list(json_dir.glob(\"*.json\"))):  # limit for speed; remove `[:5000]` to run all\n",
    "    file_count += 1\n",
    "    try:\n",
    "        with open(file_path, \"r\", encoding=\"utf-8\") as f:\n",
    "            data = json.load(f)\n",
    "\n",
    "        # Count top-level fields\n",
    "        field_counts.update(data.keys())\n",
    "        \n",
    "\n",
    "        # Text length from HTML\n",
    "        html = data[\"text_by_page_url\"]\n",
    "        if isinstance(html, str):\n",
    "            text_lengths.append(len(html))\n",
    "\n",
    "        # Title field (if exists)\n",
    "        title = data.get(\"title\")\n",
    "        if isinstance(title, str):\n",
    "            titles[title.strip()] += 1\n",
    "\n",
    "    except Exception as e:\n",
    "        errors += 1\n",
    "        continue"
   ]
  },
  {
   "cell_type": "code",
   "execution_count": null,
   "metadata": {},
   "outputs": [],
   "source": [
    "# Print out json files summary\n",
    "print(f\"Total files processed: {file_count}\")\n",
    "print(f\"Files with errors: {errors}\")\n",
    "\n",
    "print(\"\\nTop-level field occurrence across files:\")\n",
    "for key, count in field_counts.most_common():\n",
    "    print(f\"  {key}: {count}\")\n",
    "\n",
    "print(\"\\nHTML text length stats:\")\n",
    "if text_lengths:\n",
    "    import numpy as np\n",
    "    print(f\"  Avg length: {np.mean(text_lengths):.2f}\")\n",
    "    print(f\"  Min: {min(text_lengths)}, Max: {max(text_lengths)}\")\n",
    "    print(f\"  Median: {np.median(text_lengths):.2f}\")\n",
    "else:\n",
    "    print(\"  No HTML/text found.\")\n",
    "\n",
    "print(\"\\nMost common titles (if available):\")\n",
    "for title, count in titles.most_common(5):\n",
    "    print(f\"  {count}x {title[:80]}{'...' if len(title) > 80 else ''}\")"
   ]
  },
  {
   "cell_type": "code",
   "execution_count": null,
   "metadata": {},
   "outputs": [],
   "source": [
    "# Write out main keys to a text file\n",
    "output_keys_file = Path(\"json_keys.txt\")\n",
    "json_dir = Path(\"../data\")\n",
    "\n",
    "with open(output_keys_file, \"w\", encoding=\"utf-8\") as out_file:\n",
    "    for file_path in tqdm(list(json_dir.glob(\"*.json\"))):\n",
    "        try:\n",
    "            with open(file_path, \"r\", encoding=\"utf-8\") as f:\n",
    "                data = json.load(f)\n",
    "            keys = data.keys()\n",
    "            out_file.write(f\"File: {file_path.name}\\n\")\n",
    "            out_file.write(f\"Keys: {', '.join(keys)}\\n\\n\")\n",
    "        except Exception as e:\n",
    "            out_file.write(f\"File: {file_path.name}\\n\")\n",
    "            out_file.write(f\"Error: {str(e)}\\n\\n\")"
   ]
  }
 ],
 "metadata": {
  "kernelspec": {
   "display_name": "myenv",
   "language": "python",
   "name": "python3"
  },
  "language_info": {
   "codemirror_mode": {
    "name": "ipython",
    "version": 3
   },
   "file_extension": ".py",
   "mimetype": "text/x-python",
   "name": "python",
   "nbconvert_exporter": "python",
   "pygments_lexer": "ipython3",
   "version": "3.12.8"
  }
 },
 "nbformat": 4,
 "nbformat_minor": 2
}
